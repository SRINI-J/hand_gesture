{
  "cells": [
    {
      "cell_type": "code",
      "execution_count": 23,
      "metadata": {
        "id": "igMyGnjE9hEp"
      },
      "outputs": [],
      "source": [
        "import csv\n",
        "\n",
        "import numpy as np\n",
        "import tensorflow as tf\n",
        "from sklearn.model_selection import train_test_split\n",
        "\n",
        "RANDOM_SEED = 42"
      ]
    },
    {
      "cell_type": "markdown",
      "metadata": {
        "id": "t2HDvhIu9hEr"
      },
      "source": [
        "# Specify each path"
      ]
    },
    {
      "cell_type": "code",
      "execution_count": 24,
      "metadata": {
        "id": "9NvZP2Zn9hEy"
      },
      "outputs": [],
      "source": [
        "dataset = 'model/keypoint_classifier/keypoint.csv'\n",
        "model_save_path = 'model/keypoint_classifier/keypoint_classifier.hdf5'\n",
        "tflite_save_path = 'model/keypoint_classifier/keypoint_classifier.tflite'"
      ]
    },
    {
      "cell_type": "markdown",
      "metadata": {
        "id": "s5oMH7x19hEz"
      },
      "source": [
        "# Set number of classes"
      ]
    },
    {
      "cell_type": "code",
      "execution_count": 25,
      "metadata": {
        "id": "du4kodXL9hEz"
      },
      "outputs": [],
      "source": [
        "NUM_CLASSES = 6"
      ]
    },
    {
      "cell_type": "markdown",
      "metadata": {
        "id": "XjnL0uso9hEz"
      },
      "source": [
        "# Dataset reading"
      ]
    },
    {
      "cell_type": "code",
      "execution_count": 26,
      "metadata": {
        "id": "QT5ZqtEz9hE0"
      },
      "outputs": [],
      "source": [
        "X_dataset = np.loadtxt(dataset, delimiter=',', dtype='float32', usecols=list(range(1, (21 * 2) + 1)))"
      ]
    },
    {
      "cell_type": "code",
      "execution_count": 27,
      "metadata": {
        "id": "QmoKFsp49hE0"
      },
      "outputs": [],
      "source": [
        "y_dataset = np.loadtxt(dataset, delimiter=',', dtype='int32', usecols=(0))"
      ]
    },
    {
      "cell_type": "code",
      "execution_count": 28,
      "metadata": {
        "id": "xQU7JTZ_9hE0"
      },
      "outputs": [],
      "source": [
        "X_train, X_test, y_train, y_test = train_test_split(X_dataset, y_dataset, train_size=0.75, random_state=RANDOM_SEED)"
      ]
    },
    {
      "cell_type": "markdown",
      "metadata": {
        "id": "mxK_lETT9hE0"
      },
      "source": [
        "# Model building"
      ]
    },
    {
      "cell_type": "code",
      "execution_count": 29,
      "metadata": {
        "id": "vHBmUf1t9hE1"
      },
      "outputs": [],
      "source": [
        "model = tf.keras.models.Sequential([\n",
        "    tf.keras.layers.Input((21 * 2, )),\n",
        "    tf.keras.layers.Dropout(0.2),\n",
        "    tf.keras.layers.Dense(20, activation='relu'),\n",
        "    tf.keras.layers.Dropout(0.4),\n",
        "    tf.keras.layers.Dense(10, activation='relu'),\n",
        "    tf.keras.layers.Dense(NUM_CLASSES, activation='softmax')\n",
        "])"
      ]
    },
    {
      "cell_type": "code",
      "execution_count": 30,
      "metadata": {
        "colab": {
          "base_uri": "https://localhost:8080/"
        },
        "id": "ypqky9tc9hE1",
        "outputId": "5db082bb-30e3-4110-bf63-a1ee777ecd46"
      },
      "outputs": [
        {
          "name": "stdout",
          "output_type": "stream",
          "text": [
            "Model: \"sequential_1\"\n",
            "_________________________________________________________________\n",
            " Layer (type)                Output Shape              Param #   \n",
            "=================================================================\n",
            " dropout_2 (Dropout)         (None, 42)                0         \n",
            "                                                                 \n",
            " dense_3 (Dense)             (None, 20)                860       \n",
            "                                                                 \n",
            " dropout_3 (Dropout)         (None, 20)                0         \n",
            "                                                                 \n",
            " dense_4 (Dense)             (None, 10)                210       \n",
            "                                                                 \n",
            " dense_5 (Dense)             (None, 6)                 66        \n",
            "                                                                 \n",
            "=================================================================\n",
            "Total params: 1136 (4.44 KB)\n",
            "Trainable params: 1136 (4.44 KB)\n",
            "Non-trainable params: 0 (0.00 Byte)\n",
            "_________________________________________________________________\n"
          ]
        }
      ],
      "source": [
        "model.summary()  # tf.keras.utils.plot_model(model, show_shapes=True)"
      ]
    },
    {
      "cell_type": "code",
      "execution_count": 31,
      "metadata": {
        "id": "MbMjOflQ9hE1"
      },
      "outputs": [],
      "source": [
        "# Model checkpoint callback\n",
        "cp_callback = tf.keras.callbacks.ModelCheckpoint(\n",
        "    model_save_path, verbose=1, save_weights_only=False)\n",
        "# Callback for early stopping\n",
        "es_callback = tf.keras.callbacks.EarlyStopping(patience=20, verbose=1)"
      ]
    },
    {
      "cell_type": "code",
      "execution_count": 32,
      "metadata": {
        "id": "c3Dac0M_9hE2"
      },
      "outputs": [],
      "source": [
        "# Model compilation\n",
        "model.compile(\n",
        "    optimizer='adam',\n",
        "    loss='sparse_categorical_crossentropy',\n",
        "    metrics=['accuracy']\n",
        ")"
      ]
    },
    {
      "cell_type": "markdown",
      "metadata": {
        "id": "7XI0j1Iu9hE2"
      },
      "source": [
        "# Model training"
      ]
    },
    {
      "cell_type": "code",
      "execution_count": 33,
      "metadata": {
        "colab": {
          "base_uri": "https://localhost:8080/"
        },
        "id": "WirBl-JE9hE3",
        "outputId": "71b30ca2-8294-4d9d-8aa2-800d90d399de",
        "scrolled": true
      },
      "outputs": [
        {
          "name": "stdout",
          "output_type": "stream",
          "text": [
            "Epoch 1/1000\n",
            " 1/33 [..............................] - ETA: 12s - loss: 2.2605 - accuracy: 0.0938\n",
            "Epoch 1: saving model to model/keypoint_classifier/keypoint_classifier.hdf5\n",
            "33/33 [==============================] - 1s 5ms/step - loss: 1.9456 - accuracy: 0.1419 - val_loss: 1.7715 - val_accuracy: 0.2199\n",
            "Epoch 2/1000\n",
            " 1/33 [..............................] - ETA: 0s - loss: 1.7696 - accuracy: 0.2422\n",
            "Epoch 2: saving model to model/keypoint_classifier/keypoint_classifier.hdf5\n",
            "33/33 [==============================] - 0s 2ms/step - loss: 1.7282 - accuracy: 0.2394 - val_loss: 1.6141 - val_accuracy: 0.4049\n",
            "Epoch 3/1000\n",
            " 1/33 [..............................] - ETA: 0s - loss: 1.6265 - accuracy: 0.3047\n",
            "Epoch 3: saving model to model/keypoint_classifier/keypoint_classifier.hdf5\n",
            "33/33 [==============================] - 0s 2ms/step - loss: 1.5849 - accuracy: 0.3377 - val_loss: 1.4254 - val_accuracy: 0.3926\n",
            "Epoch 4/1000\n",
            " 1/33 [..............................] - ETA: 0s - loss: 1.4200 - accuracy: 0.4297"
          ]
        },
        {
          "name": "stderr",
          "output_type": "stream",
          "text": [
            "/home/user/Projects/Hand_gesture/hand/lib/python3.8/site-packages/keras/src/engine/training.py:3000: UserWarning: You are saving your model as an HDF5 file via `model.save()`. This file format is considered legacy. We recommend using instead the native Keras format, e.g. `model.save('my_model.keras')`.\n",
            "  saving_api.save_model(\n"
          ]
        },
        {
          "name": "stdout",
          "output_type": "stream",
          "text": [
            "\n",
            "Epoch 4: saving model to model/keypoint_classifier/keypoint_classifier.hdf5\n",
            "33/33 [==============================] - 0s 2ms/step - loss: 1.4306 - accuracy: 0.3919 - val_loss: 1.2584 - val_accuracy: 0.5203\n",
            "Epoch 5/1000\n",
            " 1/33 [..............................] - ETA: 0s - loss: 1.2372 - accuracy: 0.4688\n",
            "Epoch 5: saving model to model/keypoint_classifier/keypoint_classifier.hdf5\n",
            "33/33 [==============================] - 0s 2ms/step - loss: 1.3104 - accuracy: 0.4389 - val_loss: 1.1352 - val_accuracy: 0.6161\n",
            "Epoch 6/1000\n",
            " 1/33 [..............................] - ETA: 0s - loss: 1.2161 - accuracy: 0.5469\n",
            "Epoch 6: saving model to model/keypoint_classifier/keypoint_classifier.hdf5\n",
            "33/33 [==============================] - 0s 2ms/step - loss: 1.1903 - accuracy: 0.5173 - val_loss: 0.9881 - val_accuracy: 0.7315\n",
            "Epoch 7/1000\n",
            " 1/33 [..............................] - ETA: 0s - loss: 1.2401 - accuracy: 0.4141\n",
            "Epoch 7: saving model to model/keypoint_classifier/keypoint_classifier.hdf5\n",
            "33/33 [==============================] - 0s 2ms/step - loss: 1.0926 - accuracy: 0.5735 - val_loss: 0.8407 - val_accuracy: 0.8070\n",
            "Epoch 8/1000\n",
            " 1/33 [..............................] - ETA: 0s - loss: 1.0465 - accuracy: 0.6094\n",
            "Epoch 8: saving model to model/keypoint_classifier/keypoint_classifier.hdf5\n",
            "33/33 [==============================] - 0s 2ms/step - loss: 0.9745 - accuracy: 0.6328 - val_loss: 0.6916 - val_accuracy: 0.9093\n",
            "Epoch 9/1000\n",
            " 1/33 [..............................] - ETA: 0s - loss: 0.9053 - accuracy: 0.6875\n",
            "Epoch 9: saving model to model/keypoint_classifier/keypoint_classifier.hdf5\n",
            "33/33 [==============================] - 0s 2ms/step - loss: 0.8837 - accuracy: 0.6657 - val_loss: 0.5693 - val_accuracy: 1.0000\n",
            "Epoch 10/1000\n",
            " 1/33 [..............................] - ETA: 0s - loss: 0.7527 - accuracy: 0.7500\n",
            "Epoch 10: saving model to model/keypoint_classifier/keypoint_classifier.hdf5\n",
            "33/33 [==============================] - 0s 2ms/step - loss: 0.8107 - accuracy: 0.6943 - val_loss: 0.4837 - val_accuracy: 1.0000\n",
            "Epoch 11/1000\n",
            " 1/33 [..............................] - ETA: 0s - loss: 0.8766 - accuracy: 0.6562\n",
            "Epoch 11: saving model to model/keypoint_classifier/keypoint_classifier.hdf5\n",
            "33/33 [==============================] - 0s 2ms/step - loss: 0.7268 - accuracy: 0.7347 - val_loss: 0.4059 - val_accuracy: 1.0000\n",
            "Epoch 12/1000\n",
            " 1/33 [..............................] - ETA: 0s - loss: 0.7009 - accuracy: 0.7422\n",
            "Epoch 12: saving model to model/keypoint_classifier/keypoint_classifier.hdf5\n",
            "33/33 [==============================] - 0s 2ms/step - loss: 0.6720 - accuracy: 0.7541 - val_loss: 0.3464 - val_accuracy: 1.0000\n",
            "Epoch 13/1000\n",
            " 1/33 [..............................] - ETA: 0s - loss: 0.6539 - accuracy: 0.7734\n",
            "Epoch 13: saving model to model/keypoint_classifier/keypoint_classifier.hdf5\n",
            "33/33 [==============================] - 0s 2ms/step - loss: 0.6271 - accuracy: 0.7725 - val_loss: 0.3009 - val_accuracy: 1.0000\n",
            "Epoch 14/1000\n",
            " 1/33 [..............................] - ETA: 0s - loss: 0.7143 - accuracy: 0.7422\n",
            "Epoch 14: saving model to model/keypoint_classifier/keypoint_classifier.hdf5\n",
            "33/33 [==============================] - 0s 2ms/step - loss: 0.5924 - accuracy: 0.7921 - val_loss: 0.2592 - val_accuracy: 1.0000\n",
            "Epoch 15/1000\n",
            " 1/33 [..............................] - ETA: 0s - loss: 0.5867 - accuracy: 0.7578\n",
            "Epoch 15: saving model to model/keypoint_classifier/keypoint_classifier.hdf5\n",
            "33/33 [==============================] - 0s 2ms/step - loss: 0.5415 - accuracy: 0.8143 - val_loss: 0.2202 - val_accuracy: 1.0000\n",
            "Epoch 16/1000\n",
            " 1/33 [..............................] - ETA: 0s - loss: 0.5441 - accuracy: 0.7969\n",
            "Epoch 16: saving model to model/keypoint_classifier/keypoint_classifier.hdf5\n",
            "33/33 [==============================] - 0s 2ms/step - loss: 0.5078 - accuracy: 0.8272 - val_loss: 0.1906 - val_accuracy: 1.0000\n",
            "Epoch 17/1000\n",
            " 1/33 [..............................] - ETA: 0s - loss: 0.5064 - accuracy: 0.8438\n",
            "Epoch 17: saving model to model/keypoint_classifier/keypoint_classifier.hdf5\n",
            "33/33 [==============================] - 0s 2ms/step - loss: 0.4780 - accuracy: 0.8366 - val_loss: 0.1679 - val_accuracy: 1.0000\n",
            "Epoch 18/1000\n",
            " 1/33 [..............................] - ETA: 0s - loss: 0.4780 - accuracy: 0.8125\n",
            "Epoch 18: saving model to model/keypoint_classifier/keypoint_classifier.hdf5\n",
            "33/33 [==============================] - 0s 2ms/step - loss: 0.4419 - accuracy: 0.8514 - val_loss: 0.1526 - val_accuracy: 1.0000\n",
            "Epoch 19/1000\n",
            " 1/33 [..............................] - ETA: 0s - loss: 0.6087 - accuracy: 0.8125\n",
            "Epoch 19: saving model to model/keypoint_classifier/keypoint_classifier.hdf5\n",
            "33/33 [==============================] - 0s 2ms/step - loss: 0.4300 - accuracy: 0.8565 - val_loss: 0.1305 - val_accuracy: 1.0000\n",
            "Epoch 20/1000\n",
            " 1/33 [..............................] - ETA: 0s - loss: 0.4277 - accuracy: 0.8438\n",
            "Epoch 20: saving model to model/keypoint_classifier/keypoint_classifier.hdf5\n",
            "33/33 [==============================] - 0s 2ms/step - loss: 0.4190 - accuracy: 0.8601 - val_loss: 0.1244 - val_accuracy: 1.0000\n",
            "Epoch 21/1000\n",
            " 1/33 [..............................] - ETA: 0s - loss: 0.3960 - accuracy: 0.8438\n",
            "Epoch 21: saving model to model/keypoint_classifier/keypoint_classifier.hdf5\n",
            "33/33 [==============================] - 0s 2ms/step - loss: 0.3888 - accuracy: 0.8693 - val_loss: 0.1073 - val_accuracy: 1.0000\n",
            "Epoch 22/1000\n",
            " 1/33 [..............................] - ETA: 0s - loss: 0.3672 - accuracy: 0.8594\n",
            "Epoch 22: saving model to model/keypoint_classifier/keypoint_classifier.hdf5\n",
            "33/33 [==============================] - 0s 2ms/step - loss: 0.3752 - accuracy: 0.8765 - val_loss: 0.1027 - val_accuracy: 1.0000\n",
            "Epoch 23/1000\n",
            " 1/33 [..............................] - ETA: 0s - loss: 0.3653 - accuracy: 0.8906\n",
            "Epoch 23: saving model to model/keypoint_classifier/keypoint_classifier.hdf5\n",
            "33/33 [==============================] - 0s 2ms/step - loss: 0.3544 - accuracy: 0.8843 - val_loss: 0.0875 - val_accuracy: 1.0000\n",
            "Epoch 24/1000\n",
            " 1/33 [..............................] - ETA: 0s - loss: 0.3340 - accuracy: 0.8828\n",
            "Epoch 24: saving model to model/keypoint_classifier/keypoint_classifier.hdf5\n",
            "33/33 [==============================] - 0s 2ms/step - loss: 0.3512 - accuracy: 0.8797 - val_loss: 0.0816 - val_accuracy: 1.0000\n",
            "Epoch 25/1000\n",
            " 1/33 [..............................] - ETA: 0s - loss: 0.2894 - accuracy: 0.8984\n",
            "Epoch 25: saving model to model/keypoint_classifier/keypoint_classifier.hdf5\n",
            "33/33 [==============================] - 0s 2ms/step - loss: 0.3229 - accuracy: 0.8974 - val_loss: 0.0735 - val_accuracy: 1.0000\n",
            "Epoch 26/1000\n",
            " 1/33 [..............................] - ETA: 0s - loss: 0.3372 - accuracy: 0.8828\n",
            "Epoch 26: saving model to model/keypoint_classifier/keypoint_classifier.hdf5\n",
            "33/33 [==============================] - 0s 2ms/step - loss: 0.3285 - accuracy: 0.8872 - val_loss: 0.0703 - val_accuracy: 1.0000\n",
            "Epoch 27/1000\n",
            " 1/33 [..............................] - ETA: 0s - loss: 0.2877 - accuracy: 0.9062\n",
            "Epoch 27: saving model to model/keypoint_classifier/keypoint_classifier.hdf5\n",
            "33/33 [==============================] - 0s 2ms/step - loss: 0.3151 - accuracy: 0.8995 - val_loss: 0.0642 - val_accuracy: 1.0000\n",
            "Epoch 28/1000\n",
            " 1/33 [..............................] - ETA: 0s - loss: 0.3283 - accuracy: 0.9141\n",
            "Epoch 28: saving model to model/keypoint_classifier/keypoint_classifier.hdf5\n",
            "33/33 [==============================] - 0s 2ms/step - loss: 0.3116 - accuracy: 0.8995 - val_loss: 0.0614 - val_accuracy: 1.0000\n",
            "Epoch 29/1000\n",
            " 1/33 [..............................] - ETA: 0s - loss: 0.2669 - accuracy: 0.8984\n",
            "Epoch 29: saving model to model/keypoint_classifier/keypoint_classifier.hdf5\n",
            "33/33 [==============================] - 0s 2ms/step - loss: 0.2913 - accuracy: 0.9034 - val_loss: 0.0589 - val_accuracy: 1.0000\n",
            "Epoch 30/1000\n",
            " 1/33 [..............................] - ETA: 0s - loss: 0.2343 - accuracy: 0.9219\n",
            "Epoch 30: saving model to model/keypoint_classifier/keypoint_classifier.hdf5\n",
            "33/33 [==============================] - 0s 2ms/step - loss: 0.2973 - accuracy: 0.9000 - val_loss: 0.0561 - val_accuracy: 1.0000\n",
            "Epoch 31/1000\n",
            " 1/33 [..............................] - ETA: 0s - loss: 0.2975 - accuracy: 0.9141\n",
            "Epoch 31: saving model to model/keypoint_classifier/keypoint_classifier.hdf5\n",
            "33/33 [==============================] - 0s 2ms/step - loss: 0.2831 - accuracy: 0.9073 - val_loss: 0.0517 - val_accuracy: 1.0000\n",
            "Epoch 32/1000\n",
            " 1/33 [..............................] - ETA: 0s - loss: 0.2073 - accuracy: 0.9531\n",
            "Epoch 32: saving model to model/keypoint_classifier/keypoint_classifier.hdf5\n",
            "33/33 [==============================] - 0s 2ms/step - loss: 0.2844 - accuracy: 0.9034 - val_loss: 0.0517 - val_accuracy: 1.0000\n",
            "Epoch 33/1000\n",
            " 1/33 [..............................] - ETA: 0s - loss: 0.2592 - accuracy: 0.9297\n",
            "Epoch 33: saving model to model/keypoint_classifier/keypoint_classifier.hdf5\n",
            "33/33 [==============================] - 0s 2ms/step - loss: 0.2627 - accuracy: 0.9175 - val_loss: 0.0483 - val_accuracy: 1.0000\n",
            "Epoch 34/1000\n",
            " 1/33 [..............................] - ETA: 0s - loss: 0.2851 - accuracy: 0.8984\n",
            "Epoch 34: saving model to model/keypoint_classifier/keypoint_classifier.hdf5\n",
            "33/33 [==============================] - 0s 2ms/step - loss: 0.2605 - accuracy: 0.9216 - val_loss: 0.0419 - val_accuracy: 1.0000\n",
            "Epoch 35/1000\n",
            " 1/33 [..............................] - ETA: 0s - loss: 0.2695 - accuracy: 0.9141\n",
            "Epoch 35: saving model to model/keypoint_classifier/keypoint_classifier.hdf5\n",
            "33/33 [==============================] - 0s 2ms/step - loss: 0.2575 - accuracy: 0.9167 - val_loss: 0.0432 - val_accuracy: 1.0000\n",
            "Epoch 36/1000\n",
            " 1/33 [..............................] - ETA: 0s - loss: 0.3114 - accuracy: 0.9062\n",
            "Epoch 36: saving model to model/keypoint_classifier/keypoint_classifier.hdf5\n",
            "33/33 [==============================] - 0s 2ms/step - loss: 0.2737 - accuracy: 0.9080 - val_loss: 0.0450 - val_accuracy: 1.0000\n",
            "Epoch 37/1000\n",
            " 1/33 [..............................] - ETA: 0s - loss: 0.2164 - accuracy: 0.9453\n",
            "Epoch 37: saving model to model/keypoint_classifier/keypoint_classifier.hdf5\n",
            "33/33 [==============================] - 0s 2ms/step - loss: 0.2338 - accuracy: 0.9283 - val_loss: 0.0388 - val_accuracy: 1.0000\n",
            "Epoch 38/1000\n",
            " 1/33 [..............................] - ETA: 0s - loss: 0.2598 - accuracy: 0.8984\n",
            "Epoch 38: saving model to model/keypoint_classifier/keypoint_classifier.hdf5\n",
            "33/33 [==============================] - 0s 2ms/step - loss: 0.2489 - accuracy: 0.9187 - val_loss: 0.0388 - val_accuracy: 1.0000\n",
            "Epoch 39/1000\n",
            " 1/33 [..............................] - ETA: 0s - loss: 0.1728 - accuracy: 0.9453\n",
            "Epoch 39: saving model to model/keypoint_classifier/keypoint_classifier.hdf5\n",
            "33/33 [==============================] - 0s 2ms/step - loss: 0.2380 - accuracy: 0.9223 - val_loss: 0.0403 - val_accuracy: 1.0000\n",
            "Epoch 40/1000\n",
            " 1/33 [..............................] - ETA: 0s - loss: 0.2548 - accuracy: 0.9141\n",
            "Epoch 40: saving model to model/keypoint_classifier/keypoint_classifier.hdf5\n",
            "33/33 [==============================] - 0s 2ms/step - loss: 0.2422 - accuracy: 0.9233 - val_loss: 0.0380 - val_accuracy: 1.0000\n",
            "Epoch 41/1000\n",
            " 1/33 [..............................] - ETA: 0s - loss: 0.2327 - accuracy: 0.9062\n",
            "Epoch 41: saving model to model/keypoint_classifier/keypoint_classifier.hdf5\n",
            "33/33 [==============================] - 0s 2ms/step - loss: 0.2260 - accuracy: 0.9298 - val_loss: 0.0347 - val_accuracy: 1.0000\n",
            "Epoch 42/1000\n",
            " 1/33 [..............................] - ETA: 0s - loss: 0.2398 - accuracy: 0.9141\n",
            "Epoch 42: saving model to model/keypoint_classifier/keypoint_classifier.hdf5\n",
            "33/33 [==============================] - 0s 2ms/step - loss: 0.2303 - accuracy: 0.9235 - val_loss: 0.0310 - val_accuracy: 1.0000\n",
            "Epoch 43/1000\n",
            " 1/33 [..............................] - ETA: 0s - loss: 0.3010 - accuracy: 0.8906\n",
            "Epoch 43: saving model to model/keypoint_classifier/keypoint_classifier.hdf5\n",
            "33/33 [==============================] - 0s 3ms/step - loss: 0.2298 - accuracy: 0.9228 - val_loss: 0.0339 - val_accuracy: 1.0000\n",
            "Epoch 44/1000\n",
            " 1/33 [..............................] - ETA: 0s - loss: 0.3140 - accuracy: 0.9062\n",
            "Epoch 44: saving model to model/keypoint_classifier/keypoint_classifier.hdf5\n",
            "33/33 [==============================] - 0s 2ms/step - loss: 0.2229 - accuracy: 0.9254 - val_loss: 0.0354 - val_accuracy: 1.0000\n",
            "Epoch 45/1000\n",
            " 1/33 [..............................] - ETA: 0s - loss: 0.2430 - accuracy: 0.9453\n",
            "Epoch 45: saving model to model/keypoint_classifier/keypoint_classifier.hdf5\n",
            "33/33 [==============================] - 0s 2ms/step - loss: 0.2235 - accuracy: 0.9267 - val_loss: 0.0304 - val_accuracy: 1.0000\n",
            "Epoch 46/1000\n",
            " 1/33 [..............................] - ETA: 0s - loss: 0.2090 - accuracy: 0.9141\n",
            "Epoch 46: saving model to model/keypoint_classifier/keypoint_classifier.hdf5\n",
            "33/33 [==============================] - 0s 2ms/step - loss: 0.2143 - accuracy: 0.9310 - val_loss: 0.0303 - val_accuracy: 1.0000\n",
            "Epoch 47/1000\n",
            " 1/33 [..............................] - ETA: 0s - loss: 0.2726 - accuracy: 0.8984\n",
            "Epoch 47: saving model to model/keypoint_classifier/keypoint_classifier.hdf5\n",
            "33/33 [==============================] - 0s 2ms/step - loss: 0.2206 - accuracy: 0.9269 - val_loss: 0.0318 - val_accuracy: 1.0000\n",
            "Epoch 48/1000\n",
            " 1/33 [..............................] - ETA: 0s - loss: 0.2487 - accuracy: 0.9062\n",
            "Epoch 48: saving model to model/keypoint_classifier/keypoint_classifier.hdf5\n",
            "33/33 [==============================] - 0s 2ms/step - loss: 0.2314 - accuracy: 0.9254 - val_loss: 0.0302 - val_accuracy: 1.0000\n",
            "Epoch 49/1000\n",
            " 1/33 [..............................] - ETA: 0s - loss: 0.1752 - accuracy: 0.9453\n",
            "Epoch 49: saving model to model/keypoint_classifier/keypoint_classifier.hdf5\n",
            "33/33 [==============================] - 0s 2ms/step - loss: 0.2332 - accuracy: 0.9194 - val_loss: 0.0321 - val_accuracy: 1.0000\n",
            "Epoch 50/1000\n",
            " 1/33 [..............................] - ETA: 0s - loss: 0.2344 - accuracy: 0.9375\n",
            "Epoch 50: saving model to model/keypoint_classifier/keypoint_classifier.hdf5\n",
            "33/33 [==============================] - 0s 2ms/step - loss: 0.2108 - accuracy: 0.9317 - val_loss: 0.0279 - val_accuracy: 1.0000\n",
            "Epoch 51/1000\n",
            " 1/33 [..............................] - ETA: 0s - loss: 0.2019 - accuracy: 0.9453\n",
            "Epoch 51: saving model to model/keypoint_classifier/keypoint_classifier.hdf5\n",
            "33/33 [==============================] - 0s 2ms/step - loss: 0.2091 - accuracy: 0.9315 - val_loss: 0.0272 - val_accuracy: 1.0000\n",
            "Epoch 52/1000\n",
            " 1/33 [..............................] - ETA: 0s - loss: 0.1649 - accuracy: 0.9453\n",
            "Epoch 52: saving model to model/keypoint_classifier/keypoint_classifier.hdf5\n",
            "33/33 [==============================] - 0s 2ms/step - loss: 0.2069 - accuracy: 0.9320 - val_loss: 0.0303 - val_accuracy: 1.0000\n",
            "Epoch 53/1000\n",
            " 1/33 [..............................] - ETA: 0s - loss: 0.1975 - accuracy: 0.9375\n",
            "Epoch 53: saving model to model/keypoint_classifier/keypoint_classifier.hdf5\n",
            "33/33 [==============================] - 0s 2ms/step - loss: 0.1951 - accuracy: 0.9337 - val_loss: 0.0277 - val_accuracy: 1.0000\n",
            "Epoch 54/1000\n",
            " 1/33 [..............................] - ETA: 0s - loss: 0.2145 - accuracy: 0.9141\n",
            "Epoch 54: saving model to model/keypoint_classifier/keypoint_classifier.hdf5\n",
            "33/33 [==============================] - 0s 2ms/step - loss: 0.2044 - accuracy: 0.9329 - val_loss: 0.0277 - val_accuracy: 1.0000\n",
            "Epoch 55/1000\n",
            " 1/33 [..............................] - ETA: 0s - loss: 0.2281 - accuracy: 0.9219\n",
            "Epoch 55: saving model to model/keypoint_classifier/keypoint_classifier.hdf5\n",
            "33/33 [==============================] - 0s 2ms/step - loss: 0.2111 - accuracy: 0.9313 - val_loss: 0.0273 - val_accuracy: 1.0000\n",
            "Epoch 56/1000\n",
            " 1/33 [..............................] - ETA: 0s - loss: 0.1459 - accuracy: 0.9531\n",
            "Epoch 56: saving model to model/keypoint_classifier/keypoint_classifier.hdf5\n",
            "33/33 [==============================] - 0s 2ms/step - loss: 0.1924 - accuracy: 0.9395 - val_loss: 0.0274 - val_accuracy: 1.0000\n",
            "Epoch 57/1000\n",
            " 1/33 [..............................] - ETA: 0s - loss: 0.1663 - accuracy: 0.9375\n",
            "Epoch 57: saving model to model/keypoint_classifier/keypoint_classifier.hdf5\n",
            "33/33 [==============================] - 0s 2ms/step - loss: 0.1949 - accuracy: 0.9380 - val_loss: 0.0248 - val_accuracy: 1.0000\n",
            "Epoch 58/1000\n",
            " 1/33 [..............................] - ETA: 0s - loss: 0.2220 - accuracy: 0.9062\n",
            "Epoch 58: saving model to model/keypoint_classifier/keypoint_classifier.hdf5\n",
            "33/33 [==============================] - 0s 2ms/step - loss: 0.2111 - accuracy: 0.9300 - val_loss: 0.0266 - val_accuracy: 1.0000\n",
            "Epoch 59/1000\n",
            " 1/33 [..............................] - ETA: 0s - loss: 0.1389 - accuracy: 0.9688\n",
            "Epoch 59: saving model to model/keypoint_classifier/keypoint_classifier.hdf5\n",
            "33/33 [==============================] - 0s 2ms/step - loss: 0.1843 - accuracy: 0.9417 - val_loss: 0.0242 - val_accuracy: 1.0000\n",
            "Epoch 60/1000\n",
            " 1/33 [..............................] - ETA: 0s - loss: 0.1709 - accuracy: 0.9609\n",
            "Epoch 60: saving model to model/keypoint_classifier/keypoint_classifier.hdf5\n",
            "33/33 [==============================] - 0s 2ms/step - loss: 0.1968 - accuracy: 0.9334 - val_loss: 0.0256 - val_accuracy: 1.0000\n",
            "Epoch 61/1000\n",
            " 1/33 [..............................] - ETA: 0s - loss: 0.1990 - accuracy: 0.9531\n",
            "Epoch 61: saving model to model/keypoint_classifier/keypoint_classifier.hdf5\n",
            "33/33 [==============================] - 0s 2ms/step - loss: 0.1923 - accuracy: 0.9363 - val_loss: 0.0244 - val_accuracy: 1.0000\n",
            "Epoch 62/1000\n",
            " 1/33 [..............................] - ETA: 0s - loss: 0.1694 - accuracy: 0.9375\n",
            "Epoch 62: saving model to model/keypoint_classifier/keypoint_classifier.hdf5\n",
            "33/33 [==============================] - 0s 2ms/step - loss: 0.1790 - accuracy: 0.9417 - val_loss: 0.0237 - val_accuracy: 1.0000\n",
            "Epoch 63/1000\n",
            " 1/33 [..............................] - ETA: 0s - loss: 0.1685 - accuracy: 0.9688\n",
            "Epoch 63: saving model to model/keypoint_classifier/keypoint_classifier.hdf5\n",
            "33/33 [==============================] - 0s 2ms/step - loss: 0.1890 - accuracy: 0.9405 - val_loss: 0.0256 - val_accuracy: 1.0000\n",
            "Epoch 64/1000\n",
            " 1/33 [..............................] - ETA: 0s - loss: 0.1764 - accuracy: 0.9531\n",
            "Epoch 64: saving model to model/keypoint_classifier/keypoint_classifier.hdf5\n",
            "33/33 [==============================] - 0s 2ms/step - loss: 0.1802 - accuracy: 0.9424 - val_loss: 0.0239 - val_accuracy: 1.0000\n",
            "Epoch 65/1000\n",
            "29/33 [=========================>....] - ETA: 0s - loss: 0.1808 - accuracy: 0.9434\n",
            "Epoch 65: saving model to model/keypoint_classifier/keypoint_classifier.hdf5\n",
            "33/33 [==============================] - 0s 3ms/step - loss: 0.1808 - accuracy: 0.9436 - val_loss: 0.0235 - val_accuracy: 1.0000\n",
            "Epoch 66/1000\n",
            "22/33 [===================>..........] - ETA: 0s - loss: 0.1790 - accuracy: 0.9389\n",
            "Epoch 66: saving model to model/keypoint_classifier/keypoint_classifier.hdf5\n",
            "33/33 [==============================] - 0s 3ms/step - loss: 0.1738 - accuracy: 0.9407 - val_loss: 0.0222 - val_accuracy: 1.0000\n",
            "Epoch 67/1000\n",
            " 1/33 [..............................] - ETA: 0s - loss: 0.2755 - accuracy: 0.8828\n",
            "Epoch 67: saving model to model/keypoint_classifier/keypoint_classifier.hdf5\n",
            "33/33 [==============================] - 0s 2ms/step - loss: 0.1856 - accuracy: 0.9407 - val_loss: 0.0210 - val_accuracy: 1.0000\n",
            "Epoch 68/1000\n",
            " 1/33 [..............................] - ETA: 0s - loss: 0.1909 - accuracy: 0.9375\n",
            "Epoch 68: saving model to model/keypoint_classifier/keypoint_classifier.hdf5\n",
            "33/33 [==============================] - 0s 2ms/step - loss: 0.1749 - accuracy: 0.9446 - val_loss: 0.0203 - val_accuracy: 1.0000\n",
            "Epoch 69/1000\n",
            " 1/33 [..............................] - ETA: 0s - loss: 0.1100 - accuracy: 0.9688\n",
            "Epoch 69: saving model to model/keypoint_classifier/keypoint_classifier.hdf5\n",
            "33/33 [==============================] - 0s 2ms/step - loss: 0.1815 - accuracy: 0.9414 - val_loss: 0.0200 - val_accuracy: 1.0000\n",
            "Epoch 70/1000\n",
            " 1/33 [..............................] - ETA: 0s - loss: 0.1503 - accuracy: 0.9531\n",
            "Epoch 70: saving model to model/keypoint_classifier/keypoint_classifier.hdf5\n",
            "33/33 [==============================] - 0s 2ms/step - loss: 0.1712 - accuracy: 0.9460 - val_loss: 0.0202 - val_accuracy: 1.0000\n",
            "Epoch 71/1000\n",
            " 1/33 [..............................] - ETA: 0s - loss: 0.1251 - accuracy: 0.9688\n",
            "Epoch 71: saving model to model/keypoint_classifier/keypoint_classifier.hdf5\n",
            "33/33 [==============================] - 0s 2ms/step - loss: 0.1794 - accuracy: 0.9392 - val_loss: 0.0221 - val_accuracy: 1.0000\n",
            "Epoch 72/1000\n",
            " 1/33 [..............................] - ETA: 0s - loss: 0.1650 - accuracy: 0.9297\n",
            "Epoch 72: saving model to model/keypoint_classifier/keypoint_classifier.hdf5\n",
            "33/33 [==============================] - 0s 2ms/step - loss: 0.1579 - accuracy: 0.9540 - val_loss: 0.0203 - val_accuracy: 1.0000\n",
            "Epoch 73/1000\n",
            " 1/33 [..............................] - ETA: 0s - loss: 0.2328 - accuracy: 0.9141\n",
            "Epoch 73: saving model to model/keypoint_classifier/keypoint_classifier.hdf5\n",
            "33/33 [==============================] - 0s 2ms/step - loss: 0.1687 - accuracy: 0.9482 - val_loss: 0.0215 - val_accuracy: 1.0000\n",
            "Epoch 74/1000\n",
            " 1/33 [..............................] - ETA: 0s - loss: 0.1402 - accuracy: 0.9453\n",
            "Epoch 74: saving model to model/keypoint_classifier/keypoint_classifier.hdf5\n",
            "33/33 [==============================] - 0s 2ms/step - loss: 0.1751 - accuracy: 0.9434 - val_loss: 0.0211 - val_accuracy: 1.0000\n",
            "Epoch 75/1000\n",
            "23/33 [===================>..........] - ETA: 0s - loss: 0.1564 - accuracy: 0.9524\n",
            "Epoch 75: saving model to model/keypoint_classifier/keypoint_classifier.hdf5\n",
            "33/33 [==============================] - 0s 3ms/step - loss: 0.1586 - accuracy: 0.9501 - val_loss: 0.0212 - val_accuracy: 1.0000\n",
            "Epoch 76/1000\n",
            " 1/33 [..............................] - ETA: 0s - loss: 0.2479 - accuracy: 0.9141\n",
            "Epoch 76: saving model to model/keypoint_classifier/keypoint_classifier.hdf5\n",
            "33/33 [==============================] - 0s 2ms/step - loss: 0.1756 - accuracy: 0.9434 - val_loss: 0.0201 - val_accuracy: 1.0000\n",
            "Epoch 77/1000\n",
            "27/33 [=======================>......] - ETA: 0s - loss: 0.1732 - accuracy: 0.9430\n",
            "Epoch 77: saving model to model/keypoint_classifier/keypoint_classifier.hdf5\n",
            "33/33 [==============================] - 0s 4ms/step - loss: 0.1740 - accuracy: 0.9424 - val_loss: 0.0212 - val_accuracy: 1.0000\n",
            "Epoch 78/1000\n",
            "28/33 [========================>.....] - ETA: 0s - loss: 0.1791 - accuracy: 0.9436\n",
            "Epoch 78: saving model to model/keypoint_classifier/keypoint_classifier.hdf5\n",
            "33/33 [==============================] - 0s 3ms/step - loss: 0.1783 - accuracy: 0.9438 - val_loss: 0.0233 - val_accuracy: 1.0000\n",
            "Epoch 79/1000\n",
            " 1/33 [..............................] - ETA: 0s - loss: 0.1593 - accuracy: 0.9375\n",
            "Epoch 79: saving model to model/keypoint_classifier/keypoint_classifier.hdf5\n",
            "33/33 [==============================] - 0s 2ms/step - loss: 0.1620 - accuracy: 0.9480 - val_loss: 0.0190 - val_accuracy: 1.0000\n",
            "Epoch 80/1000\n",
            " 1/33 [..............................] - ETA: 0s - loss: 0.1286 - accuracy: 0.9609\n",
            "Epoch 80: saving model to model/keypoint_classifier/keypoint_classifier.hdf5\n",
            "33/33 [==============================] - 0s 2ms/step - loss: 0.1780 - accuracy: 0.9390 - val_loss: 0.0232 - val_accuracy: 1.0000\n",
            "Epoch 81/1000\n",
            " 1/33 [..............................] - ETA: 0s - loss: 0.2312 - accuracy: 0.9141\n",
            "Epoch 81: saving model to model/keypoint_classifier/keypoint_classifier.hdf5\n",
            "33/33 [==============================] - 0s 2ms/step - loss: 0.1693 - accuracy: 0.9463 - val_loss: 0.0218 - val_accuracy: 1.0000\n",
            "Epoch 82/1000\n",
            " 1/33 [..............................] - ETA: 0s - loss: 0.1883 - accuracy: 0.9375\n",
            "Epoch 82: saving model to model/keypoint_classifier/keypoint_classifier.hdf5\n",
            "33/33 [==============================] - 0s 2ms/step - loss: 0.1694 - accuracy: 0.9434 - val_loss: 0.0250 - val_accuracy: 1.0000\n",
            "Epoch 83/1000\n",
            " 1/33 [..............................] - ETA: 0s - loss: 0.1664 - accuracy: 0.9219\n",
            "Epoch 83: saving model to model/keypoint_classifier/keypoint_classifier.hdf5\n",
            "33/33 [==============================] - 0s 2ms/step - loss: 0.1584 - accuracy: 0.9482 - val_loss: 0.0230 - val_accuracy: 1.0000\n",
            "Epoch 84/1000\n",
            " 1/33 [..............................] - ETA: 0s - loss: 0.2107 - accuracy: 0.9062\n",
            "Epoch 84: saving model to model/keypoint_classifier/keypoint_classifier.hdf5\n",
            "33/33 [==============================] - 0s 2ms/step - loss: 0.1591 - accuracy: 0.9499 - val_loss: 0.0193 - val_accuracy: 1.0000\n",
            "Epoch 85/1000\n",
            " 1/33 [..............................] - ETA: 0s - loss: 0.1539 - accuracy: 0.9375\n",
            "Epoch 85: saving model to model/keypoint_classifier/keypoint_classifier.hdf5\n",
            "33/33 [==============================] - 0s 2ms/step - loss: 0.1563 - accuracy: 0.9472 - val_loss: 0.0187 - val_accuracy: 1.0000\n",
            "Epoch 86/1000\n",
            " 1/33 [..............................] - ETA: 0s - loss: 0.1473 - accuracy: 0.9453\n",
            "Epoch 86: saving model to model/keypoint_classifier/keypoint_classifier.hdf5\n",
            "33/33 [==============================] - 0s 3ms/step - loss: 0.1553 - accuracy: 0.9499 - val_loss: 0.0189 - val_accuracy: 1.0000\n",
            "Epoch 87/1000\n",
            "28/33 [========================>.....] - ETA: 0s - loss: 0.1586 - accuracy: 0.9509\n",
            "Epoch 87: saving model to model/keypoint_classifier/keypoint_classifier.hdf5\n",
            "33/33 [==============================] - 0s 4ms/step - loss: 0.1610 - accuracy: 0.9501 - val_loss: 0.0199 - val_accuracy: 1.0000\n",
            "Epoch 88/1000\n",
            " 1/33 [..............................] - ETA: 0s - loss: 0.1369 - accuracy: 0.9531\n",
            "Epoch 88: saving model to model/keypoint_classifier/keypoint_classifier.hdf5\n",
            "33/33 [==============================] - 0s 3ms/step - loss: 0.1580 - accuracy: 0.9492 - val_loss: 0.0199 - val_accuracy: 1.0000\n",
            "Epoch 89/1000\n",
            " 1/33 [..............................] - ETA: 0s - loss: 0.1306 - accuracy: 0.9531\n",
            "Epoch 89: saving model to model/keypoint_classifier/keypoint_classifier.hdf5\n",
            "33/33 [==============================] - 0s 2ms/step - loss: 0.1602 - accuracy: 0.9509 - val_loss: 0.0234 - val_accuracy: 1.0000\n",
            "Epoch 90/1000\n",
            " 1/33 [..............................] - ETA: 0s - loss: 0.1377 - accuracy: 0.9531\n",
            "Epoch 90: saving model to model/keypoint_classifier/keypoint_classifier.hdf5\n",
            "33/33 [==============================] - 0s 2ms/step - loss: 0.1478 - accuracy: 0.9516 - val_loss: 0.0173 - val_accuracy: 1.0000\n",
            "Epoch 91/1000\n",
            " 1/33 [..............................] - ETA: 0s - loss: 0.2045 - accuracy: 0.9141\n",
            "Epoch 91: saving model to model/keypoint_classifier/keypoint_classifier.hdf5\n",
            "33/33 [==============================] - 0s 2ms/step - loss: 0.1581 - accuracy: 0.9480 - val_loss: 0.0189 - val_accuracy: 1.0000\n",
            "Epoch 92/1000\n",
            " 1/33 [..............................] - ETA: 0s - loss: 0.1840 - accuracy: 0.9219\n",
            "Epoch 92: saving model to model/keypoint_classifier/keypoint_classifier.hdf5\n",
            "33/33 [==============================] - 0s 2ms/step - loss: 0.1579 - accuracy: 0.9467 - val_loss: 0.0200 - val_accuracy: 1.0000\n",
            "Epoch 93/1000\n",
            " 1/33 [..............................] - ETA: 0s - loss: 0.1829 - accuracy: 0.9297\n",
            "Epoch 93: saving model to model/keypoint_classifier/keypoint_classifier.hdf5\n",
            "33/33 [==============================] - 0s 2ms/step - loss: 0.1548 - accuracy: 0.9489 - val_loss: 0.0178 - val_accuracy: 1.0000\n",
            "Epoch 94/1000\n",
            " 1/33 [..............................] - ETA: 0s - loss: 0.1171 - accuracy: 0.9609\n",
            "Epoch 94: saving model to model/keypoint_classifier/keypoint_classifier.hdf5\n",
            "33/33 [==============================] - 0s 2ms/step - loss: 0.1457 - accuracy: 0.9530 - val_loss: 0.0185 - val_accuracy: 1.0000\n",
            "Epoch 95/1000\n",
            " 1/33 [..............................] - ETA: 0s - loss: 0.0963 - accuracy: 0.9766\n",
            "Epoch 95: saving model to model/keypoint_classifier/keypoint_classifier.hdf5\n",
            "33/33 [==============================] - 0s 2ms/step - loss: 0.1391 - accuracy: 0.9538 - val_loss: 0.0149 - val_accuracy: 1.0000\n",
            "Epoch 96/1000\n",
            " 1/33 [..............................] - ETA: 0s - loss: 0.1298 - accuracy: 0.9609\n",
            "Epoch 96: saving model to model/keypoint_classifier/keypoint_classifier.hdf5\n",
            "33/33 [==============================] - 0s 2ms/step - loss: 0.1440 - accuracy: 0.9533 - val_loss: 0.0153 - val_accuracy: 1.0000\n",
            "Epoch 97/1000\n",
            "32/33 [============================>.] - ETA: 0s - loss: 0.1476 - accuracy: 0.9517\n",
            "Epoch 97: saving model to model/keypoint_classifier/keypoint_classifier.hdf5\n",
            "33/33 [==============================] - 0s 3ms/step - loss: 0.1491 - accuracy: 0.9511 - val_loss: 0.0181 - val_accuracy: 1.0000\n",
            "Epoch 98/1000\n",
            "33/33 [==============================] - ETA: 0s - loss: 0.1587 - accuracy: 0.9458\n",
            "Epoch 98: saving model to model/keypoint_classifier/keypoint_classifier.hdf5\n",
            "33/33 [==============================] - 0s 3ms/step - loss: 0.1587 - accuracy: 0.9458 - val_loss: 0.0190 - val_accuracy: 1.0000\n",
            "Epoch 99/1000\n",
            " 1/33 [..............................] - ETA: 0s - loss: 0.1597 - accuracy: 0.9297\n",
            "Epoch 99: saving model to model/keypoint_classifier/keypoint_classifier.hdf5\n",
            "33/33 [==============================] - 0s 2ms/step - loss: 0.1579 - accuracy: 0.9458 - val_loss: 0.0191 - val_accuracy: 1.0000\n",
            "Epoch 100/1000\n",
            " 1/33 [..............................] - ETA: 0s - loss: 0.2588 - accuracy: 0.9062\n",
            "Epoch 100: saving model to model/keypoint_classifier/keypoint_classifier.hdf5\n",
            "33/33 [==============================] - 0s 2ms/step - loss: 0.1483 - accuracy: 0.9528 - val_loss: 0.0188 - val_accuracy: 1.0000\n",
            "Epoch 101/1000\n",
            " 1/33 [..............................] - ETA: 0s - loss: 0.1077 - accuracy: 0.9609\n",
            "Epoch 101: saving model to model/keypoint_classifier/keypoint_classifier.hdf5\n",
            "33/33 [==============================] - 0s 2ms/step - loss: 0.1519 - accuracy: 0.9480 - val_loss: 0.0135 - val_accuracy: 1.0000\n",
            "Epoch 102/1000\n",
            " 1/33 [..............................] - ETA: 0s - loss: 0.1037 - accuracy: 0.9766\n",
            "Epoch 102: saving model to model/keypoint_classifier/keypoint_classifier.hdf5\n",
            "33/33 [==============================] - 0s 2ms/step - loss: 0.1552 - accuracy: 0.9467 - val_loss: 0.0176 - val_accuracy: 1.0000\n",
            "Epoch 103/1000\n",
            " 1/33 [..............................] - ETA: 0s - loss: 0.1608 - accuracy: 0.9453\n",
            "Epoch 103: saving model to model/keypoint_classifier/keypoint_classifier.hdf5\n",
            "33/33 [==============================] - 0s 2ms/step - loss: 0.1388 - accuracy: 0.9535 - val_loss: 0.0122 - val_accuracy: 1.0000\n",
            "Epoch 104/1000\n",
            " 1/33 [..............................] - ETA: 0s - loss: 0.2194 - accuracy: 0.9531\n",
            "Epoch 104: saving model to model/keypoint_classifier/keypoint_classifier.hdf5\n",
            "33/33 [==============================] - 0s 2ms/step - loss: 0.1429 - accuracy: 0.9538 - val_loss: 0.0176 - val_accuracy: 1.0000\n",
            "Epoch 105/1000\n",
            " 1/33 [..............................] - ETA: 0s - loss: 0.0819 - accuracy: 0.9844\n",
            "Epoch 105: saving model to model/keypoint_classifier/keypoint_classifier.hdf5\n",
            "33/33 [==============================] - 0s 2ms/step - loss: 0.1393 - accuracy: 0.9562 - val_loss: 0.0145 - val_accuracy: 1.0000\n",
            "Epoch 106/1000\n",
            " 1/33 [..............................] - ETA: 0s - loss: 0.1665 - accuracy: 0.9453\n",
            "Epoch 106: saving model to model/keypoint_classifier/keypoint_classifier.hdf5\n",
            "33/33 [==============================] - 0s 2ms/step - loss: 0.1441 - accuracy: 0.9518 - val_loss: 0.0159 - val_accuracy: 1.0000\n",
            "Epoch 107/1000\n",
            " 1/33 [..............................] - ETA: 0s - loss: 0.0541 - accuracy: 1.0000\n",
            "Epoch 107: saving model to model/keypoint_classifier/keypoint_classifier.hdf5\n",
            "33/33 [==============================] - 0s 2ms/step - loss: 0.1435 - accuracy: 0.9542 - val_loss: 0.0175 - val_accuracy: 1.0000\n",
            "Epoch 108/1000\n",
            " 1/33 [..............................] - ETA: 0s - loss: 0.0733 - accuracy: 0.9844\n",
            "Epoch 108: saving model to model/keypoint_classifier/keypoint_classifier.hdf5\n",
            "33/33 [==============================] - 0s 2ms/step - loss: 0.1342 - accuracy: 0.9564 - val_loss: 0.0164 - val_accuracy: 1.0000\n",
            "Epoch 109/1000\n",
            " 1/33 [..............................] - ETA: 0s - loss: 0.1252 - accuracy: 0.9609\n",
            "Epoch 109: saving model to model/keypoint_classifier/keypoint_classifier.hdf5\n",
            "33/33 [==============================] - 0s 2ms/step - loss: 0.1486 - accuracy: 0.9547 - val_loss: 0.0159 - val_accuracy: 1.0000\n",
            "Epoch 110/1000\n",
            " 1/33 [..............................] - ETA: 0s - loss: 0.1681 - accuracy: 0.9844\n",
            "Epoch 110: saving model to model/keypoint_classifier/keypoint_classifier.hdf5\n",
            "33/33 [==============================] - 0s 2ms/step - loss: 0.1510 - accuracy: 0.9530 - val_loss: 0.0176 - val_accuracy: 1.0000\n",
            "Epoch 111/1000\n",
            " 1/33 [..............................] - ETA: 0s - loss: 0.2296 - accuracy: 0.9297\n",
            "Epoch 111: saving model to model/keypoint_classifier/keypoint_classifier.hdf5\n",
            "33/33 [==============================] - 0s 2ms/step - loss: 0.1427 - accuracy: 0.9501 - val_loss: 0.0153 - val_accuracy: 1.0000\n",
            "Epoch 112/1000\n",
            " 1/33 [..............................] - ETA: 0s - loss: 0.2324 - accuracy: 0.9141\n",
            "Epoch 112: saving model to model/keypoint_classifier/keypoint_classifier.hdf5\n",
            "33/33 [==============================] - 0s 2ms/step - loss: 0.1507 - accuracy: 0.9499 - val_loss: 0.0150 - val_accuracy: 1.0000\n",
            "Epoch 113/1000\n",
            " 1/33 [..............................] - ETA: 0s - loss: 0.2046 - accuracy: 0.9297\n",
            "Epoch 113: saving model to model/keypoint_classifier/keypoint_classifier.hdf5\n",
            "33/33 [==============================] - 0s 2ms/step - loss: 0.1454 - accuracy: 0.9545 - val_loss: 0.0181 - val_accuracy: 1.0000\n",
            "Epoch 114/1000\n",
            " 1/33 [..............................] - ETA: 0s - loss: 0.1636 - accuracy: 0.9531\n",
            "Epoch 114: saving model to model/keypoint_classifier/keypoint_classifier.hdf5\n",
            "33/33 [==============================] - 0s 2ms/step - loss: 0.1446 - accuracy: 0.9530 - val_loss: 0.0176 - val_accuracy: 1.0000\n",
            "Epoch 115/1000\n",
            " 1/33 [..............................] - ETA: 0s - loss: 0.1232 - accuracy: 0.9688\n",
            "Epoch 115: saving model to model/keypoint_classifier/keypoint_classifier.hdf5\n",
            "33/33 [==============================] - 0s 2ms/step - loss: 0.1378 - accuracy: 0.9562 - val_loss: 0.0181 - val_accuracy: 1.0000\n",
            "Epoch 116/1000\n",
            " 1/33 [..............................] - ETA: 0s - loss: 0.1859 - accuracy: 0.9375\n",
            "Epoch 116: saving model to model/keypoint_classifier/keypoint_classifier.hdf5\n",
            "33/33 [==============================] - 0s 2ms/step - loss: 0.1434 - accuracy: 0.9521 - val_loss: 0.0170 - val_accuracy: 1.0000\n",
            "Epoch 117/1000\n",
            " 1/33 [..............................] - ETA: 0s - loss: 0.2607 - accuracy: 0.9219\n",
            "Epoch 117: saving model to model/keypoint_classifier/keypoint_classifier.hdf5\n",
            "33/33 [==============================] - 0s 2ms/step - loss: 0.1623 - accuracy: 0.9450 - val_loss: 0.0179 - val_accuracy: 1.0000\n",
            "Epoch 118/1000\n",
            " 1/33 [..............................] - ETA: 0s - loss: 0.2331 - accuracy: 0.9219\n",
            "Epoch 118: saving model to model/keypoint_classifier/keypoint_classifier.hdf5\n",
            "33/33 [==============================] - 0s 2ms/step - loss: 0.1492 - accuracy: 0.9504 - val_loss: 0.0185 - val_accuracy: 1.0000\n",
            "Epoch 119/1000\n",
            " 1/33 [..............................] - ETA: 0s - loss: 0.1738 - accuracy: 0.9453\n",
            "Epoch 119: saving model to model/keypoint_classifier/keypoint_classifier.hdf5\n",
            "33/33 [==============================] - 0s 2ms/step - loss: 0.1340 - accuracy: 0.9564 - val_loss: 0.0127 - val_accuracy: 1.0000\n",
            "Epoch 120/1000\n",
            " 1/33 [..............................] - ETA: 0s - loss: 0.1018 - accuracy: 0.9688\n",
            "Epoch 120: saving model to model/keypoint_classifier/keypoint_classifier.hdf5\n",
            "33/33 [==============================] - 0s 2ms/step - loss: 0.1278 - accuracy: 0.9584 - val_loss: 0.0165 - val_accuracy: 1.0000\n",
            "Epoch 121/1000\n",
            "19/33 [================>.............] - ETA: 0s - loss: 0.1391 - accuracy: 0.9539\n",
            "Epoch 121: saving model to model/keypoint_classifier/keypoint_classifier.hdf5\n",
            "33/33 [==============================] - 0s 3ms/step - loss: 0.1384 - accuracy: 0.9550 - val_loss: 0.0158 - val_accuracy: 1.0000\n",
            "Epoch 122/1000\n",
            " 1/33 [..............................] - ETA: 0s - loss: 0.1331 - accuracy: 0.9453\n",
            "Epoch 122: saving model to model/keypoint_classifier/keypoint_classifier.hdf5\n",
            "33/33 [==============================] - 0s 2ms/step - loss: 0.1372 - accuracy: 0.9552 - val_loss: 0.0167 - val_accuracy: 1.0000\n",
            "Epoch 123/1000\n",
            " 1/33 [..............................] - ETA: 0s - loss: 0.1033 - accuracy: 0.9688\n",
            "Epoch 123: saving model to model/keypoint_classifier/keypoint_classifier.hdf5\n",
            "33/33 [==============================] - 0s 2ms/step - loss: 0.1366 - accuracy: 0.9569 - val_loss: 0.0173 - val_accuracy: 1.0000\n",
            "Epoch 123: early stopping\n"
          ]
        },
        {
          "data": {
            "text/plain": [
              "<keras.src.callbacks.History at 0x7f3f6cc96f70>"
            ]
          },
          "execution_count": 33,
          "metadata": {},
          "output_type": "execute_result"
        }
      ],
      "source": [
        "model.fit(\n",
        "    X_train,\n",
        "    y_train,\n",
        "    epochs=1000,\n",
        "    batch_size=128,\n",
        "    validation_data=(X_test, y_test),\n",
        "    callbacks=[cp_callback, es_callback]\n",
        ")"
      ]
    },
    {
      "cell_type": "code",
      "execution_count": 34,
      "metadata": {
        "colab": {
          "base_uri": "https://localhost:8080/"
        },
        "id": "pxvb2Y299hE3",
        "outputId": "59eb3185-2e37-4b9e-bc9d-ab1b8ac29b7f"
      },
      "outputs": [
        {
          "name": "stdout",
          "output_type": "stream",
          "text": [
            "11/11 [==============================] - 0s 972us/step - loss: 0.0173 - accuracy: 1.0000\n"
          ]
        }
      ],
      "source": [
        "# Model evaluation\n",
        "val_loss, val_acc = model.evaluate(X_test, y_test, batch_size=128)"
      ]
    },
    {
      "cell_type": "code",
      "execution_count": 35,
      "metadata": {
        "id": "RBkmDeUW9hE4"
      },
      "outputs": [],
      "source": [
        "# Loading the saved model\n",
        "model = tf.keras.models.load_model(model_save_path)"
      ]
    },
    {
      "cell_type": "code",
      "execution_count": 36,
      "metadata": {
        "colab": {
          "base_uri": "https://localhost:8080/"
        },
        "id": "tFz9Tb0I9hE4",
        "outputId": "1c3b3528-54ae-4ee2-ab04-77429211cbef"
      },
      "outputs": [
        {
          "name": "stdout",
          "output_type": "stream",
          "text": [
            "1/1 [==============================] - 0s 36ms/step\n",
            "[8.2969382e-05 9.9878520e-01 6.5433460e-06 1.1225761e-03 3.3152631e-08\n",
            " 2.6810746e-06]\n",
            "1\n"
          ]
        }
      ],
      "source": [
        "# Inference test\n",
        "predict_result = model.predict(np.array([X_test[0]]))\n",
        "print(np.squeeze(predict_result))\n",
        "print(np.argmax(np.squeeze(predict_result)))"
      ]
    },
    {
      "cell_type": "markdown",
      "metadata": {
        "id": "S3U4yNWx9hE4"
      },
      "source": [
        "# Confusion matrix"
      ]
    },
    {
      "cell_type": "code",
      "execution_count": 37,
      "metadata": {
        "colab": {
          "base_uri": "https://localhost:8080/",
          "height": 582
        },
        "id": "AP1V6SCk9hE5",
        "outputId": "08e41a80-7a4a-4619-8125-ecc371368d19"
      },
      "outputs": [
        {
          "name": "stdout",
          "output_type": "stream",
          "text": [
            "44/44 [==============================] - 0s 846us/step\n"
          ]
        },
        {
          "data": {
            "image/png": "[encoded data removed]",
            "text/plain": [
              "<Figure size 700x600 with 2 Axes>"
            ]
          },
          "metadata": {},
          "output_type": "display_data"
        },
        {
          "name": "stdout",
          "output_type": "stream",
          "text": [
            "Classification Report\n",
            "              precision    recall  f1-score   support\n",
            "\n",
            "           0       1.00      1.00      1.00       228\n",
            "           1       1.00      1.00      1.00       211\n",
            "           2       1.00      1.00      1.00       182\n",
            "           3       1.00      1.00      1.00       260\n",
            "           4       1.00      1.00      1.00       247\n",
            "           5       1.00      1.00      1.00       250\n",
            "\n",
            "    accuracy                           1.00      1378\n",
            "   macro avg       1.00      1.00      1.00      1378\n",
            "weighted avg       1.00      1.00      1.00      1378\n",
            "\n"
          ]
        }
      ],
      "source": [
        "import pandas as pd\n",
        "import seaborn as sns\n",
        "import matplotlib.pyplot as plt\n",
        "from sklearn.metrics import confusion_matrix, classification_report\n",
        "\n",
        "def print_confusion_matrix(y_true, y_pred, report=True):\n",
        "    labels = sorted(list(set(y_true)))\n",
        "    cmx_data = confusion_matrix(y_true, y_pred, labels=labels)\n",
        "    \n",
        "    df_cmx = pd.DataFrame(cmx_data, index=labels, columns=labels)\n",
        " \n",
        "    fig, ax = plt.subplots(figsize=(7, 6))\n",
        "    sns.heatmap(df_cmx, annot=True, fmt='g' ,square=False)\n",
        "    ax.set_ylim(len(set(y_true)), 0)\n",
        "    plt.show()\n",
        "    \n",
        "    if report:\n",
        "        print('Classification Report')\n",
        "        print(classification_report(y_test, y_pred))\n",
        "\n",
        "Y_pred = model.predict(X_test)\n",
        "y_pred = np.argmax(Y_pred, axis=1)\n",
        "\n",
        "print_confusion_matrix(y_test, y_pred)"
      ]
    },
    {
      "cell_type": "markdown",
      "metadata": {
        "id": "FNP6aqzc9hE5"
      },
      "source": [
        "# Convert to model for Tensorflow-Lite"
      ]
    },
    {
      "cell_type": "code",
      "execution_count": 38,
      "metadata": {
        "id": "ODjnYyld9hE6"
      },
      "outputs": [
        {
          "name": "stderr",
          "output_type": "stream",
          "text": [
            "/home/user/Projects/Hand_gesture/hand/lib/python3.8/site-packages/keras/src/engine/training.py:3000: UserWarning: You are saving your model as an HDF5 file via `model.save()`. This file format is considered legacy. We recommend using instead the native Keras format, e.g. `model.save('my_model.keras')`.\n",
            "  saving_api.save_model(\n"
          ]
        }
      ],
      "source": [
        "# Save as a model dedicated to inference\n",
        "model.save(model_save_path, include_optimizer=False)"
      ]
    },
    {
      "cell_type": "code",
      "execution_count": 39,
      "metadata": {
        "colab": {
          "base_uri": "https://localhost:8080/"
        },
        "id": "zRfuK8Y59hE6",
        "outputId": "a4ca585c-b5d5-4244-8291-8674063209bb"
      },
      "outputs": [
        {
          "name": "stdout",
          "output_type": "stream",
          "text": [
            "INFO:tensorflow:Assets written to: /tmp/tmp0h5lyaqz/assets\n"
          ]
        },
        {
          "name": "stderr",
          "output_type": "stream",
          "text": [
            "INFO:tensorflow:Assets written to: /tmp/tmp0h5lyaqz/assets\n",
            "2024-03-09 23:03:19.335045: W tensorflow/compiler/mlir/lite/python/tf_tfl_flatbuffer_helpers.cc:364] Ignored output_format.\n",
            "2024-03-09 23:03:19.335077: W tensorflow/compiler/mlir/lite/python/tf_tfl_flatbuffer_helpers.cc:367] Ignored drop_control_dependency.\n",
            "2024-03-09 23:03:19.335226: I tensorflow/cc/saved_model/reader.cc:45] Reading SavedModel from: /tmp/tmp0h5lyaqz\n",
            "2024-03-09 23:03:19.336005: I tensorflow/cc/saved_model/reader.cc:91] Reading meta graph with tags { serve }\n",
            "2024-03-09 23:03:19.336017: I tensorflow/cc/saved_model/reader.cc:132] Reading SavedModel debug info (if present) from: /tmp/tmp0h5lyaqz\n",
            "2024-03-09 23:03:19.338516: I tensorflow/cc/saved_model/loader.cc:231] Restoring SavedModel bundle.\n",
            "2024-03-09 23:03:19.367714: I tensorflow/cc/saved_model/loader.cc:215] Running initialization op on SavedModel bundle at path: /tmp/tmp0h5lyaqz\n",
            "2024-03-09 23:03:19.375965: I tensorflow/cc/saved_model/loader.cc:314] SavedModel load for tags { serve }; Status: success: OK. Took 40739 microseconds.\n"
          ]
        },
        {
          "data": {
            "text/plain": [
              "6660"
            ]
          },
          "execution_count": 39,
          "metadata": {},
          "output_type": "execute_result"
        }
      ],
      "source": [
        "# Transform model (quantization)\n",
        "\n",
        "converter = tf.lite.TFLiteConverter.from_keras_model(model)\n",
        "converter.optimizations = [tf.lite.Optimize.DEFAULT]\n",
        "tflite_quantized_model = converter.convert()\n",
        "\n",
        "open(tflite_save_path, 'wb').write(tflite_quantized_model)"
      ]
    },
    {
      "cell_type": "markdown",
      "metadata": {
        "id": "CHBPBXdx9hE6"
      },
      "source": [
        "# Inference test"
      ]
    },
    {
      "cell_type": "code",
      "execution_count": 40,
      "metadata": {
        "id": "mGAzLocO9hE7"
      },
      "outputs": [],
      "source": [
        "interpreter = tf.lite.Interpreter(model_path=tflite_save_path)\n",
        "interpreter.allocate_tensors()"
      ]
    },
    {
      "cell_type": "code",
      "execution_count": 41,
      "metadata": {
        "id": "oQuDK8YS9hE7"
      },
      "outputs": [],
      "source": [
        "# Get I / O tensor\n",
        "input_details = interpreter.get_input_details()\n",
        "output_details = interpreter.get_output_details()"
      ]
    },
    {
      "cell_type": "code",
      "execution_count": 42,
      "metadata": {
        "id": "2_ixAf_l9hE7"
      },
      "outputs": [],
      "source": [
        "interpreter.set_tensor(input_details[0]['index'], np.array([X_test[0]]))"
      ]
    },
    {
      "cell_type": "code",
      "execution_count": 43,
      "metadata": {
        "colab": {
          "base_uri": "https://localhost:8080/"
        },
        "id": "s4FoAnuc9hE7",
        "outputId": "91f18257-8d8b-4ef3-c558-e9b5f94fabbf",
        "scrolled": true
      },
      "outputs": [
        {
          "name": "stdout",
          "output_type": "stream",
          "text": [
            "CPU times: user 44 µs, sys: 5 µs, total: 49 µs\n",
            "Wall time: 37.4 µs\n"
          ]
        }
      ],
      "source": [
        "%%time\n",
        "# Inference implementation\n",
        "interpreter.invoke()\n",
        "tflite_results = interpreter.get_tensor(output_details[0]['index'])"
      ]
    },
    {
      "cell_type": "code",
      "execution_count": 44,
      "metadata": {
        "colab": {
          "base_uri": "https://localhost:8080/"
        },
        "id": "vONjp19J9hE8",
        "outputId": "77205e24-fd00-42c4-f7b6-e06e527c2cba"
      },
      "outputs": [
        {
          "name": "stdout",
          "output_type": "stream",
          "text": [
            "[8.2969455e-05 9.9878520e-01 6.5433519e-06 1.1225755e-03 3.3152627e-08\n",
            " 2.6810744e-06]\n",
            "1\n"
          ]
        }
      ],
      "source": [
        "print(np.squeeze(tflite_results))\n",
        "print(np.argmax(np.squeeze(tflite_results)))"
      ]
    },
    {
      "cell_type": "code",
      "execution_count": null,
      "metadata": {},
      "outputs": [],
      "source": []
    }
  ],
  "metadata": {
    "accelerator": "GPU",
    "colab": {
      "collapsed_sections": [],
      "name": "keypoint_classification_EN.ipynb",
      "provenance": [],
      "toc_visible": true
    },
    "kernelspec": {
      "display_name": "Python 3",
      "language": "python",
      "name": "python3"
    },
    "language_info": {
      "codemirror_mode": {
        "name": "ipython",
        "version": 3
      },
      "file_extension": ".py",
      "mimetype": "text/x-python",
      "name": "python",
      "nbconvert_exporter": "python",
      "pygments_lexer": "ipython3",
      "version": "3.8.10"
    }
  },
  "nbformat": 4,
  "nbformat_minor": 0
}
